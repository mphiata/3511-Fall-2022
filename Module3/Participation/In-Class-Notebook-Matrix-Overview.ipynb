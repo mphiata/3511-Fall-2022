{
 "cells": [
  {
   "cell_type": "code",
   "execution_count": 1,
   "metadata": {},
   "outputs": [],
   "source": [
    "import numpy as np\n",
    "%matplotlib notebook"
   ]
  },
  {
   "cell_type": "markdown",
   "metadata": {},
   "source": [
    "# Matrix Review"
   ]
  },
  {
   "cell_type": "markdown",
   "metadata": {},
   "source": [
    "Take the matricies:\n",
    "\n",
    "$\\bf{A} =\n",
    "\\begin{pmatrix}\n",
    "2 & 4 & -7\\\\\n",
    "3 & -3 & 0\\\\\n",
    "1 & 7 & 5\n",
    "\\end{pmatrix},\\;\\;\n",
    "\\bf{B} =\n",
    "\\begin{pmatrix}\n",
    "2 & 4\\\\\n",
    "3 & -3\\\\\n",
    "1 & 7\n",
    "\\end{pmatrix}, \\;\\;\n",
    "\\bf{C} =\n",
    "\\begin{pmatrix}\n",
    "-1 & 1\\\\\n",
    "1 & -1\n",
    "\\end{pmatrix}, \\;\\;\n",
    "\\bf{D} = \n",
    "\\begin{pmatrix}\n",
    "2 & 0\\\\\n",
    "-3 & 6\n",
    "\\end{pmatrix}\n",
    "$ \n",
    "\n",
    "Define the matricies as numpy arrays"
   ]
  },
  {
   "cell_type": "code",
   "execution_count": 2,
   "metadata": {},
   "outputs": [],
   "source": [
    "A = np.array([[2,4,-7],[3,-3,0],[1,7,5]])\n",
    "B = np.array([[2,4],[3,-3],[1,7]])\n",
    "C = np.array([[-1,1],[1,-1]])\n",
    "D = np.array([[2,0],[-3,6]])"
   ]
  },
  {
   "cell_type": "markdown",
   "metadata": {},
   "source": [
    "1. Multiply $\\bf{A}$ by 2.5 "
   ]
  },
  {
   "cell_type": "code",
   "execution_count": 3,
   "metadata": {},
   "outputs": [
    {
     "name": "stdout",
     "output_type": "stream",
     "text": [
      "[[  5.   10.  -17.5]\n",
      " [  7.5  -7.5   0. ]\n",
      " [  2.5  17.5  12.5]]\n"
     ]
    }
   ],
   "source": [
    "c = 2.5\n",
    "cA = c*A\n",
    "print(cA)"
   ]
  },
  {
   "cell_type": "markdown",
   "metadata": {},
   "source": [
    "2. Evaluate the product of $\\bf{C}\\cdot\\bf{A}$ \n",
    "\n",
    "Did you get an error? Do you know why? (Hint: look at the dimensions of the matrix)\n",
    "- Got an error. the matrices are 2x2 and 3x3, so can't multiply need number of rows to match columns of other "
   ]
  },
  {
   "cell_type": "code",
   "execution_count": 4,
   "metadata": {},
   "outputs": [
    {
     "ename": "ValueError",
     "evalue": "matmul: Input operand 1 has a mismatch in its core dimension 0, with gufunc signature (n?,k),(k,m?)->(n?,m?) (size 3 is different from 2)",
     "output_type": "error",
     "traceback": [
      "\u001b[0;31m---------------------------------------------------------------------------\u001b[0m",
      "\u001b[0;31mValueError\u001b[0m                                Traceback (most recent call last)",
      "\u001b[0;32m<ipython-input-4-c6cb02f46b75>\u001b[0m in \u001b[0;36m<module>\u001b[0;34m\u001b[0m\n\u001b[0;32m----> 1\u001b[0;31m \u001b[0mCA\u001b[0m \u001b[0;34m=\u001b[0m \u001b[0mnp\u001b[0m\u001b[0;34m.\u001b[0m\u001b[0mmatmul\u001b[0m\u001b[0;34m(\u001b[0m\u001b[0mC\u001b[0m\u001b[0;34m,\u001b[0m\u001b[0mA\u001b[0m\u001b[0;34m)\u001b[0m\u001b[0;34m\u001b[0m\u001b[0;34m\u001b[0m\u001b[0m\n\u001b[0m\u001b[1;32m      2\u001b[0m \u001b[0mprint\u001b[0m\u001b[0;34m(\u001b[0m\u001b[0mCA\u001b[0m\u001b[0;34m)\u001b[0m\u001b[0;34m\u001b[0m\u001b[0;34m\u001b[0m\u001b[0m\n",
      "\u001b[0;31mValueError\u001b[0m: matmul: Input operand 1 has a mismatch in its core dimension 0, with gufunc signature (n?,k),(k,m?)->(n?,m?) (size 3 is different from 2)"
     ]
    }
   ],
   "source": [
    "CA = np.matmul(C,A)\n",
    "print(CA)"
   ]
  },
  {
   "cell_type": "markdown",
   "metadata": {},
   "source": [
    "3. Evaluate the product of $\\bf{C}\\cdot\\bf{D}$ and then $\\bf{D}\\cdot\\bf{C}$. Do you get the same results? \n",
    "- different answers CD != DC"
   ]
  },
  {
   "cell_type": "code",
   "execution_count": 5,
   "metadata": {},
   "outputs": [
    {
     "name": "stdout",
     "output_type": "stream",
     "text": [
      "[[-5  6]\n",
      " [ 5 -6]]\n",
      "[[-2  2]\n",
      " [ 9 -9]]\n"
     ]
    }
   ],
   "source": [
    "CD = np.matmul(C,D)\n",
    "DC = np.matmul(D,C)\n",
    "print(CD)\n",
    "print(DC)\n",
    "#different results because it is not communicative"
   ]
  },
  {
   "cell_type": "markdown",
   "metadata": {},
   "source": [
    "4. Find the transpose of $\\bf{B}$"
   ]
  },
  {
   "cell_type": "code",
   "execution_count": 6,
   "metadata": {},
   "outputs": [
    {
     "name": "stdout",
     "output_type": "stream",
     "text": [
      "[[ 2  3  1]\n",
      " [ 4 -3  7]]\n"
     ]
    }
   ],
   "source": [
    "B_T = B.T\n",
    "print(B_T)"
   ]
  },
  {
   "cell_type": "markdown",
   "metadata": {},
   "source": [
    "5. Add $\\bf{C} + \\bf{D}$"
   ]
  },
  {
   "cell_type": "code",
   "execution_count": 7,
   "metadata": {},
   "outputs": [
    {
     "name": "stdout",
     "output_type": "stream",
     "text": [
      "[[ 1  1]\n",
      " [-2  5]]\n"
     ]
    }
   ],
   "source": [
    "CD_add = C + D\n",
    "print(CD_add)"
   ]
  },
  {
   "cell_type": "markdown",
   "metadata": {},
   "source": [
    "6. Compute the determinate of $\\bf{C}$"
   ]
  },
  {
   "cell_type": "code",
   "execution_count": 8,
   "metadata": {},
   "outputs": [
    {
     "name": "stdout",
     "output_type": "stream",
     "text": [
      "0.0\n"
     ]
    }
   ],
   "source": [
    "detC = np.linalg.det(C)\n",
    "print(detC)"
   ]
  },
  {
   "cell_type": "markdown",
   "metadata": {},
   "source": [
    "7. Compute the determinate of $\\bf{A}$"
   ]
  },
  {
   "cell_type": "code",
   "execution_count": 9,
   "metadata": {},
   "outputs": [
    {
     "name": "stdout",
     "output_type": "stream",
     "text": [
      "[[ 2  4 -7]\n",
      " [ 3 -3  0]\n",
      " [ 1  7  5]]\n",
      "-257.9999999999998\n"
     ]
    }
   ],
   "source": [
    "detA = np.linalg.det(A)\n",
    "print(A)\n",
    "print(detA)"
   ]
  }
 ],
 "metadata": {
  "kernelspec": {
   "display_name": "Python 3",
   "language": "python",
   "name": "python3"
  },
  "language_info": {
   "codemirror_mode": {
    "name": "ipython",
    "version": 3
   },
   "file_extension": ".py",
   "mimetype": "text/x-python",
   "name": "python",
   "nbconvert_exporter": "python",
   "pygments_lexer": "ipython3",
   "version": "3.8.5"
  }
 },
 "nbformat": 4,
 "nbformat_minor": 5
}
